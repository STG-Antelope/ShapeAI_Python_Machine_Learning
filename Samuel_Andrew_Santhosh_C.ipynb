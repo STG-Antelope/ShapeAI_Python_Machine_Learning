{
  "nbformat": 4,
  "nbformat_minor": 0,
  "metadata": {
    "colab": {
      "name": "Samuel_Andrew_Santhosh_C.ipynb",
      "provenance": []
    },
    "kernelspec": {
      "name": "python3",
      "display_name": "Python 3"
    },
    "language_info": {
      "name": "python"
    }
  },
  "cells": [
    {
      "cell_type": "code",
      "metadata": {
        "id": "1YKW-V0AORFV"
      },
      "source": [
        "#importing all required libraries\n",
        "import numpy as np\n",
        "import sklearn \n",
        "import pandas as pd"
      ],
      "execution_count": 1,
      "outputs": []
    },
    {
      "cell_type": "code",
      "metadata": {
        "colab": {
          "base_uri": "https://localhost:8080/"
        },
        "id": "O_2ALDE2On-y",
        "outputId": "84eaf5e8-23de-4966-ce65-d5f44116333b"
      },
      "source": [
        "from sklearn.datasets import load_boston #loading the boston housing dataframe from scikit learn datasets\n",
        "dk = load_boston() #assigning a variable to the dataset\n",
        "dk.keys() #defining the keys of the dataset"
      ],
      "execution_count": 5,
      "outputs": [
        {
          "output_type": "execute_result",
          "data": {
            "text/plain": [
              "dict_keys(['data', 'target', 'feature_names', 'DESCR', 'filename'])"
            ]
          },
          "metadata": {
            "tags": []
          },
          "execution_count": 5
        }
      ]
    },
    {
      "cell_type": "code",
      "metadata": {
        "id": "OYxRxRlzPyJf"
      },
      "source": [
        "bos_house = pd.DataFrame(dk.data, columns=dk.feature_names) #Converting the dictionary into DataFrame\n",
        "bos_house.head(12) #Printing the first 12 entries of the DataFrame to verify"
      ],
      "execution_count": null,
      "outputs": []
    },
    {
      "cell_type": "code",
      "metadata": {
        "id": "BCIm3dP-Q2n1"
      },
      "source": [
        "bos_house['Median'] = dk.target #Assigning the targeted data in order to construct a regression model\n",
        "bos_house.tail(2) #Printing last two lines of the DataFrame"
      ],
      "execution_count": null,
      "outputs": []
    },
    {
      "cell_type": "code",
      "metadata": {
        "id": "h-K0uwnuRuOz"
      },
      "source": [
        "bos_house.isnull().sum() #Checking for null values and suming them up\n",
        " \n"
      ],
      "execution_count": null,
      "outputs": []
    },
    {
      "cell_type": "code",
      "metadata": {
        "colab": {
          "base_uri": "https://localhost:8080/"
        },
        "id": "7M6ZEtyiSQS7",
        "outputId": "d2a63dca-1713-4072-96ea-55f3b738950b"
      },
      "source": [
        "from sklearn.model_selection import train_test_split #Importing the module \n",
        "#Splitting data\n",
        "X= bos_house.drop('Median', axis=1)\n",
        "Y= bos_house['Median']\n",
        "X_train,X_test,Y_train,Y_test= train_test_split(X,Y,test_size=0.15,random_state=2)\n",
        "\n",
        "#Displaying the dimensions of the data\n",
        "print(X_train.shape)\n",
        "print(X_test.shape)\n",
        "print(Y_train.shape)\n",
        "print(X_test.shape)"
      ],
      "execution_count": 24,
      "outputs": [
        {
          "output_type": "stream",
          "text": [
            "(430, 13)\n",
            "(76, 13)\n",
            "(430,)\n",
            "(76, 13)\n"
          ],
          "name": "stdout"
        }
      ]
    },
    {
      "cell_type": "code",
      "metadata": {
        "id": "OHsyo8hVU63G"
      },
      "source": [
        "#Importing the models required for exploration from scikit learn library\n",
        "from sklearn.linear_model import LinearRegression\n",
        "from sklearn.metrics import mean_squared_error\n",
        "model = LinearRegression()\n",
        "lr=model.fit(X_train, Y_train) #Fitting the training data into the model\n",
        "Y_train_predict = model.predict(X_train) \n",
        "rmse = (np.sqrt(mean_squared_error(Y_train,Y_train_predict)))"
      ],
      "execution_count": 31,
      "outputs": []
    },
    {
      "cell_type": "code",
      "metadata": {
        "colab": {
          "base_uri": "https://localhost:8080/"
        },
        "id": "0xrVXa9VWrwf",
        "outputId": "c719dd7b-628b-4d4b-d019-80b5724c4959"
      },
      "source": [
        "#Printing root mean square error for training data\n",
        "print('RMSE for training data is {}'.format(rmse))\n",
        "print('\\n')"
      ],
      "execution_count": 32,
      "outputs": [
        {
          "output_type": "stream",
          "text": [
            "RMSE for training data is 4.744150933201674\n",
            "\n",
            "\n"
          ],
          "name": "stdout"
        }
      ]
    },
    {
      "cell_type": "code",
      "metadata": {
        "colab": {
          "base_uri": "https://localhost:8080/"
        },
        "id": "ttAz0ctuXXo1",
        "outputId": "94ddd69e-6826-4d7a-85b8-37fd730ac360"
      },
      "source": [
        "#Repeating the same procedure for finding rmse for testing data\n",
        "Y_test_predict = model.predict(X_test)\n",
        "rmse = np.sqrt(mean_squared_error(Y_test,Y_test_predict))\n",
        "print('RMSE for testing data is{}'.format(rmse))\n",
        "print('\\n') #RMSE can vary as I used random_state=2"
      ],
      "execution_count": 34,
      "outputs": [
        {
          "output_type": "stream",
          "text": [
            "RMSE for testing data is4.401577146808856\n",
            "\n",
            "\n"
          ],
          "name": "stdout"
        }
      ]
    }
  ]
}